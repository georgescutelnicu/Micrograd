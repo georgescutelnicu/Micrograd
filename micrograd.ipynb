{
  "nbformat": 4,
  "nbformat_minor": 0,
  "metadata": {
    "colab": {
      "provenance": []
    },
    "kernelspec": {
      "name": "python3",
      "display_name": "Python 3"
    },
    "language_info": {
      "name": "python"
    }
  },
  "cells": [
    {
      "cell_type": "markdown",
      "source": [
        "**Imports**"
      ],
      "metadata": {
        "id": "W9-rjHiGK4t-"
      }
    },
    {
      "cell_type": "code",
      "execution_count": 1,
      "metadata": {
        "id": "Oe16zMB33BQU"
      },
      "outputs": [],
      "source": [
        "import math\n",
        "import numpy as np"
      ]
    },
    {
      "cell_type": "markdown",
      "source": [
        "**Engine**"
      ],
      "metadata": {
        "id": "oHPI9lmNK0Qy"
      }
    },
    {
      "cell_type": "code",
      "source": [
        "class Value:\n",
        "  \n",
        "  def __init__(self, data, children=(), operation='', label=''):\n",
        "    self.data = data\n",
        "    self.children = children\n",
        "    self.operation = operation\n",
        "    self.label = label\n",
        "    self.grad = 0\n",
        "    self.derivative = lambda: None\n",
        "\n",
        "  # Create a printable representation\n",
        "  def __repr__(self):\n",
        "    return f\"Value({self.data})\"\n",
        "  \n",
        "  # Self + Other\n",
        "  def __add__(self, other):\n",
        "    other = other if isinstance(other, Value) else Value(other)\n",
        "    out = Value(self.data + other.data, (self, other), '+')\n",
        "    \n",
        "    def derivative():\n",
        "      self.grad += 1 * out.grad\n",
        "      other.grad += 1 * out.grad\n",
        "    out.derivative = derivative\n",
        "    \n",
        "    return out\n",
        "\n",
        "  # Other + Self\n",
        "  def __radd__(self, other): # other + self\n",
        "    return self + other\n",
        "\n",
        "  # Self * Other\n",
        "  def __mul__(self, other):\n",
        "    other = other if isinstance(other, Value) else Value(other)\n",
        "    out = Value(self.data * other.data, (self, other), '*')\n",
        "\n",
        "    def derivative():\n",
        "      self.grad += other.data * out.grad\n",
        "      other.grad += self.data * out.grad\n",
        "    out.derivative = derivative\n",
        "      \n",
        "    return out\n",
        "\n",
        "  # Other * Self\n",
        "  def __rmul__(self, other): # other * self\n",
        "    return self * other\n",
        "  \n",
        "  # Self ** Other\n",
        "  def __pow__(self, other):\n",
        "    out = Value(self.data**other, (self, ), f'**{other}')\n",
        "\n",
        "    def derivative():\n",
        "      self.grad += other * (self.data ** (other - 1)) * out.grad\n",
        "    out.derivative = derivative\n",
        "\n",
        "    return out\n",
        "  \n",
        "  # Self / Other\n",
        "  def __truediv__(self, other):\n",
        "    return self / other\n",
        "\n",
        "  # Negate self: self --> -self\n",
        "  def __neg__(self):\n",
        "    return self * -1\n",
        "\n",
        "  # Self - Other\n",
        "  def __sub__(self, other):\n",
        "    return self + (-other)\n",
        "\n",
        "  # Exponent\n",
        "  def exp(self):\n",
        "    x = self.data\n",
        "    out = Value(math.exp(x), (self, ), 'exp')\n",
        "    \n",
        "    def derivative():\n",
        "      self.grad += out.data * out.grad\n",
        "    out.derivative = derivative\n",
        "    \n",
        "    return out\n",
        "\n",
        "  # Activation fn --> tanh\n",
        "  def tanh(self):\n",
        "    x = self.data\n",
        "    t = (math.exp(2*x) - 1)/(math.exp(2*x) + 1)\n",
        "    out = Value(t, (self, ), 'tanh')\n",
        "    \n",
        "    def derivative():\n",
        "      self.grad += (1 - t**2) * out.grad\n",
        "    out.derivative = derivative\n",
        "    \n",
        "    return out\n",
        "  \n",
        "  # Backward fn\n",
        "  def backward(self):\n",
        "\n",
        "    # Topological order\n",
        "    topo = [] \n",
        "    visited = set() \n",
        "    def build_topo(v):\n",
        "      if v not in visited:\n",
        "        visited.add(v)\n",
        "        for child in v.children:\n",
        "          build_topo(child)\n",
        "        topo.append(v)\n",
        "    build_topo(self)\n",
        "    \n",
        "    # Initialize gradient\n",
        "    self.grad = 1.0\n",
        "\n",
        "    # Perform backpropagation\n",
        "    for node in reversed(topo):\n",
        "      node.derivative()"
      ],
      "metadata": {
        "id": "r3x8kzvB3N-A"
      },
      "execution_count": 2,
      "outputs": []
    },
    {
      "cell_type": "markdown",
      "source": [
        "**Neural Network**"
      ],
      "metadata": {
        "id": "2EoYf6NCK7hU"
      }
    },
    {
      "cell_type": "code",
      "source": [
        "# Create a neuron\n",
        "class Neuron:\n",
        "  \n",
        "  def __init__(self, _in):\n",
        "    self.w = [Value(np.random.uniform(-1, 1)) for _ in range(_in)]\n",
        "    self.b = Value(np.random.uniform(-1, 1))\n",
        "  \n",
        "  def __call__(self, x):\n",
        "    act = sum((wi*xi for wi, xi in zip(self.w, x)), self.b)\n",
        "    out = act.tanh()\n",
        "    return out\n",
        "  \n",
        "  def params(self):\n",
        "    return self.w + [self.b]\n",
        "\n",
        "# Create a layer of neurons\n",
        "class Layer:\n",
        "  \n",
        "  def __init__(self, _in, _out):\n",
        "    self.neurons = [Neuron(_in) for _ in range(_out)]\n",
        "  \n",
        "  def __call__(self, x):\n",
        "    _out = [n(x) for n in self.neurons]\n",
        "    return _out[0] if len(_out) == 1 else _out\n",
        "  \n",
        "  def params(self):\n",
        "    return [p for neuron in self.neurons for p in neuron.params()]\n",
        "\n",
        "# Create a Feedforward Neural Network\n",
        "class FNN:\n",
        "  \n",
        "  def __init__(self, _in, __out):\n",
        "    size = [_in] + __out\n",
        "    self.layers = [Layer(size[i], size[i+1]) for i in range(len(__out))]\n",
        "  \n",
        "  def __call__(self, x):\n",
        "    for layer in self.layers:\n",
        "      x = layer(x)\n",
        "    return x\n",
        "  \n",
        "  def params(self):\n",
        "    return [p for layer in self.layers for p in layer.params()]"
      ],
      "metadata": {
        "id": "9urrj2Bb_JYL"
      },
      "execution_count": 3,
      "outputs": []
    },
    {
      "cell_type": "markdown",
      "source": [
        "**Trace Graph**"
      ],
      "metadata": {
        "id": "EAbq3a_NLAtH"
      }
    },
    {
      "cell_type": "code",
      "source": [
        "# This one i literally copy-pasted from the micrograd repo\n",
        "from graphviz import Digraph\n",
        "\n",
        "def trace(root):\n",
        "  # builds a set of all nodes and edges in a graph\n",
        "  nodes, edges = set(), set()\n",
        "  def build(v):\n",
        "    if v not in nodes:\n",
        "      nodes.add(v)\n",
        "      for child in v.children:\n",
        "        edges.add((child, v))\n",
        "        build(child)\n",
        "  build(root)\n",
        "  return nodes, edges\n",
        "\n",
        "def draw_dot(root):\n",
        "  dot = Digraph(format='svg', graph_attr={'rankdir': 'LR'}) # LR = left to right\n",
        "  \n",
        "  nodes, edges = trace(root)\n",
        "  for n in nodes:\n",
        "    uid = str(id(n))\n",
        "    # for any value in the graph, create a rectangular node for it\n",
        "    dot.node(name = uid, label = \"{ %s | data %.4f | grad %.4f }\" % (n.label, n.data, n.grad), shape='record')\n",
        "    if n.operation:\n",
        "      # if this value is a result of some operation, create an operation node for it\n",
        "      dot.node(name = uid + n.operation, label = n.operation)\n",
        "      # and connect this node to it\n",
        "      dot.edge(uid + n.operation, uid)\n",
        "\n",
        "  for n1, n2 in edges:\n",
        "    # connect n1 to the operation node of n2\n",
        "    dot.edge(str(id(n1)), str(id(n2)) + n2.operation)\n",
        "\n",
        "  return dot"
      ],
      "metadata": {
        "id": "1FYjU6Ec3Oad"
      },
      "execution_count": 4,
      "outputs": []
    },
    {
      "cell_type": "markdown",
      "source": [
        "**Example 1**"
      ],
      "metadata": {
        "id": "dgFdb4pTKw2s"
      }
    },
    {
      "cell_type": "code",
      "source": [
        "# Inputs\n",
        "x1 = Value(3.0, label='x1')\n",
        "x2 = Value(1.0, label='x2')\n",
        "# Weights\n",
        "w1 = Value(-2.0, label='w1')\n",
        "w2 = Value(2.0, label='w2')\n",
        "# Bias\n",
        "b = Value(5, label='b')\n",
        "\n",
        "# Forward pass\n",
        "x1w1 = x1*w1\n",
        "x1w1.label = 'x1*w1'\n",
        "\n",
        "x2w2 = x2*w2\n",
        "x2w2.label = 'x2*w2'\n",
        "\n",
        "x1w1x2w2 = x1w1 + x2w2\n",
        "x1w1x2w2.label = 'x1*w1 + x2*w2'\n",
        "\n",
        "n = x1w1x2w2 + b\n",
        "n.label = 'n'\n",
        "\n",
        "o = n.tanh()\n",
        "o.label = 'o'\n",
        "\n",
        "# Backward pass\n",
        "o.backward()\n",
        "\n",
        "# Graph\n",
        "draw_dot(o)"
      ],
      "metadata": {
        "colab": {
          "base_uri": "https://localhost:8080/",
          "height": 321
        },
        "id": "yIaaHqEq-0Mu",
        "outputId": "0972ed7e-17fd-4db9-81ad-00e9a8f6d83a"
      },
      "execution_count": 5,
      "outputs": [
        {
          "output_type": "execute_result",
          "data": {
            "text/plain": [
              "<graphviz.dot.Digraph at 0x7eff5a15bdc0>"
            ],
            "image/svg+xml": "<?xml version=\"1.0\" encoding=\"UTF-8\" standalone=\"no\"?>\n<!DOCTYPE svg PUBLIC \"-//W3C//DTD SVG 1.1//EN\"\n \"http://www.w3.org/Graphics/SVG/1.1/DTD/svg11.dtd\">\n<!-- Generated by graphviz version 2.43.0 (0)\n -->\n<!-- Title: %3 Pages: 1 -->\n<svg width=\"1575pt\" height=\"210pt\"\n viewBox=\"0.00 0.00 1575.00 210.00\" xmlns=\"http://www.w3.org/2000/svg\" xmlns:xlink=\"http://www.w3.org/1999/xlink\">\n<g id=\"graph0\" class=\"graph\" transform=\"scale(1 1) rotate(0) translate(4 206)\">\n<title>%3</title>\n<polygon fill=\"white\" stroke=\"transparent\" points=\"-4,4 -4,-206 1571,-206 1571,4 -4,4\"/>\n<!-- 139635193133616 -->\n<g id=\"node1\" class=\"node\">\n<title>139635193133616</title>\n<polygon fill=\"none\" stroke=\"black\" points=\"716,-137.5 716,-173.5 901,-173.5 901,-137.5 716,-137.5\"/>\n<text text-anchor=\"middle\" x=\"727.5\" y=\"-151.8\" font-family=\"Times,serif\" font-size=\"14.00\">b</text>\n<polyline fill=\"none\" stroke=\"black\" points=\"739,-137.5 739,-173.5 \"/>\n<text text-anchor=\"middle\" x=\"779\" y=\"-151.8\" font-family=\"Times,serif\" font-size=\"14.00\">data 5.0000</text>\n<polyline fill=\"none\" stroke=\"black\" points=\"819,-137.5 819,-173.5 \"/>\n<text text-anchor=\"middle\" x=\"860\" y=\"-151.8\" font-family=\"Times,serif\" font-size=\"14.00\">grad 0.4200</text>\n</g>\n<!-- 139635193135408+ -->\n<g id=\"node10\" class=\"node\">\n<title>139635193135408+</title>\n<ellipse fill=\"none\" stroke=\"black\" cx=\"1008\" cy=\"-127.5\" rx=\"27\" ry=\"18\"/>\n<text text-anchor=\"middle\" x=\"1008\" y=\"-123.8\" font-family=\"Times,serif\" font-size=\"14.00\">+</text>\n</g>\n<!-- 139635193133616&#45;&gt;139635193135408+ -->\n<g id=\"edge13\" class=\"edge\">\n<title>139635193133616&#45;&gt;139635193135408+</title>\n<path fill=\"none\" stroke=\"black\" d=\"M901.02,-142.52C926,-138.98 951.59,-135.36 971.37,-132.55\"/>\n<polygon fill=\"black\" stroke=\"black\" points=\"972.03,-135.99 981.43,-131.12 971.04,-129.06 972.03,-135.99\"/>\n</g>\n<!-- 139635193132128 -->\n<g id=\"node2\" class=\"node\">\n<title>139635193132128</title>\n<polygon fill=\"none\" stroke=\"black\" points=\"2.5,-165.5 2.5,-201.5 197.5,-201.5 197.5,-165.5 2.5,-165.5\"/>\n<text text-anchor=\"middle\" x=\"19\" y=\"-179.8\" font-family=\"Times,serif\" font-size=\"14.00\">w2</text>\n<polyline fill=\"none\" stroke=\"black\" points=\"35.5,-165.5 35.5,-201.5 \"/>\n<text text-anchor=\"middle\" x=\"75.5\" y=\"-179.8\" font-family=\"Times,serif\" font-size=\"14.00\">data 2.0000</text>\n<polyline fill=\"none\" stroke=\"black\" points=\"115.5,-165.5 115.5,-201.5 \"/>\n<text text-anchor=\"middle\" x=\"156.5\" y=\"-179.8\" font-family=\"Times,serif\" font-size=\"14.00\">grad 0.4200</text>\n</g>\n<!-- 139635193134864* -->\n<g id=\"node8\" class=\"node\">\n<title>139635193134864*</title>\n<ellipse fill=\"none\" stroke=\"black\" cx=\"263\" cy=\"-128.5\" rx=\"27\" ry=\"18\"/>\n<text text-anchor=\"middle\" x=\"263\" y=\"-124.8\" font-family=\"Times,serif\" font-size=\"14.00\">*</text>\n</g>\n<!-- 139635193132128&#45;&gt;139635193134864* -->\n<g id=\"edge10\" class=\"edge\">\n<title>139635193132128&#45;&gt;139635193134864*</title>\n<path fill=\"none\" stroke=\"black\" d=\"M172.53,-165.44C181.84,-162.67 191.2,-159.67 200,-156.5 210.53,-152.71 221.75,-147.9 231.72,-143.33\"/>\n<polygon fill=\"black\" stroke=\"black\" points=\"233.25,-146.48 240.82,-139.07 230.28,-140.14 233.25,-146.48\"/>\n</g>\n<!-- 139635193131696 -->\n<g id=\"node3\" class=\"node\">\n<title>139635193131696</title>\n<polygon fill=\"none\" stroke=\"black\" points=\"4,-110.5 4,-146.5 196,-146.5 196,-110.5 4,-110.5\"/>\n<text text-anchor=\"middle\" x=\"19\" y=\"-124.8\" font-family=\"Times,serif\" font-size=\"14.00\">x2</text>\n<polyline fill=\"none\" stroke=\"black\" points=\"34,-110.5 34,-146.5 \"/>\n<text text-anchor=\"middle\" x=\"74\" y=\"-124.8\" font-family=\"Times,serif\" font-size=\"14.00\">data 1.0000</text>\n<polyline fill=\"none\" stroke=\"black\" points=\"114,-110.5 114,-146.5 \"/>\n<text text-anchor=\"middle\" x=\"155\" y=\"-124.8\" font-family=\"Times,serif\" font-size=\"14.00\">grad 0.8399</text>\n</g>\n<!-- 139635193131696&#45;&gt;139635193134864* -->\n<g id=\"edge9\" class=\"edge\">\n<title>139635193131696&#45;&gt;139635193134864*</title>\n<path fill=\"none\" stroke=\"black\" d=\"M196.05,-128.5C206.52,-128.5 216.65,-128.5 225.71,-128.5\"/>\n<polygon fill=\"black\" stroke=\"black\" points=\"225.79,-132 235.79,-128.5 225.79,-125 225.79,-132\"/>\n</g>\n<!-- 139635193134816 -->\n<g id=\"node4\" class=\"node\">\n<title>139635193134816</title>\n<polygon fill=\"none\" stroke=\"black\" points=\"672,-82.5 672,-118.5 945,-118.5 945,-82.5 672,-82.5\"/>\n<text text-anchor=\"middle\" x=\"725\" y=\"-96.8\" font-family=\"Times,serif\" font-size=\"14.00\">x1*w1 + x2*w2</text>\n<polyline fill=\"none\" stroke=\"black\" points=\"778,-82.5 778,-118.5 \"/>\n<text text-anchor=\"middle\" x=\"820.5\" y=\"-96.8\" font-family=\"Times,serif\" font-size=\"14.00\">data &#45;4.0000</text>\n<polyline fill=\"none\" stroke=\"black\" points=\"863,-82.5 863,-118.5 \"/>\n<text text-anchor=\"middle\" x=\"904\" y=\"-96.8\" font-family=\"Times,serif\" font-size=\"14.00\">grad 0.4200</text>\n</g>\n<!-- 139635193134816&#45;&gt;139635193135408+ -->\n<g id=\"edge6\" class=\"edge\">\n<title>139635193134816&#45;&gt;139635193135408+</title>\n<path fill=\"none\" stroke=\"black\" d=\"M941.24,-118.51C952.12,-120 962.4,-121.4 971.45,-122.64\"/>\n<polygon fill=\"black\" stroke=\"black\" points=\"971.11,-126.13 981.49,-124.01 972.05,-119.19 971.11,-126.13\"/>\n</g>\n<!-- 139635193134816+ -->\n<g id=\"node5\" class=\"node\">\n<title>139635193134816+</title>\n<ellipse fill=\"none\" stroke=\"black\" cx=\"609\" cy=\"-100.5\" rx=\"27\" ry=\"18\"/>\n<text text-anchor=\"middle\" x=\"609\" y=\"-96.8\" font-family=\"Times,serif\" font-size=\"14.00\">+</text>\n</g>\n<!-- 139635193134816+&#45;&gt;139635193134816 -->\n<g id=\"edge1\" class=\"edge\">\n<title>139635193134816+&#45;&gt;139635193134816</title>\n<path fill=\"none\" stroke=\"black\" d=\"M636.23,-100.5C643.7,-100.5 652.41,-100.5 661.87,-100.5\"/>\n<polygon fill=\"black\" stroke=\"black\" points=\"661.98,-104 671.98,-100.5 661.98,-97 661.98,-104\"/>\n</g>\n<!-- 139635193132272 -->\n<g id=\"node6\" class=\"node\">\n<title>139635193132272</title>\n<polygon fill=\"none\" stroke=\"black\" points=\"2,-55.5 2,-91.5 198,-91.5 198,-55.5 2,-55.5\"/>\n<text text-anchor=\"middle\" x=\"17\" y=\"-69.8\" font-family=\"Times,serif\" font-size=\"14.00\">x1</text>\n<polyline fill=\"none\" stroke=\"black\" points=\"32,-55.5 32,-91.5 \"/>\n<text text-anchor=\"middle\" x=\"72\" y=\"-69.8\" font-family=\"Times,serif\" font-size=\"14.00\">data 3.0000</text>\n<polyline fill=\"none\" stroke=\"black\" points=\"112,-55.5 112,-91.5 \"/>\n<text text-anchor=\"middle\" x=\"155\" y=\"-69.8\" font-family=\"Times,serif\" font-size=\"14.00\">grad &#45;0.8399</text>\n</g>\n<!-- 139635193134912* -->\n<g id=\"node12\" class=\"node\">\n<title>139635193134912*</title>\n<ellipse fill=\"none\" stroke=\"black\" cx=\"263\" cy=\"-73.5\" rx=\"27\" ry=\"18\"/>\n<text text-anchor=\"middle\" x=\"263\" y=\"-69.8\" font-family=\"Times,serif\" font-size=\"14.00\">*</text>\n</g>\n<!-- 139635193132272&#45;&gt;139635193134912* -->\n<g id=\"edge12\" class=\"edge\">\n<title>139635193132272&#45;&gt;139635193134912*</title>\n<path fill=\"none\" stroke=\"black\" d=\"M198.37,-73.5C208.05,-73.5 217.4,-73.5 225.8,-73.5\"/>\n<polygon fill=\"black\" stroke=\"black\" points=\"225.91,-77 235.91,-73.5 225.91,-70 225.91,-77\"/>\n</g>\n<!-- 139635193134864 -->\n<g id=\"node7\" class=\"node\">\n<title>139635193134864</title>\n<polygon fill=\"none\" stroke=\"black\" points=\"328.5,-110.5 328.5,-146.5 543.5,-146.5 543.5,-110.5 328.5,-110.5\"/>\n<text text-anchor=\"middle\" x=\"355\" y=\"-124.8\" font-family=\"Times,serif\" font-size=\"14.00\">x2*w2</text>\n<polyline fill=\"none\" stroke=\"black\" points=\"381.5,-110.5 381.5,-146.5 \"/>\n<text text-anchor=\"middle\" x=\"421.5\" y=\"-124.8\" font-family=\"Times,serif\" font-size=\"14.00\">data 2.0000</text>\n<polyline fill=\"none\" stroke=\"black\" points=\"461.5,-110.5 461.5,-146.5 \"/>\n<text text-anchor=\"middle\" x=\"502.5\" y=\"-124.8\" font-family=\"Times,serif\" font-size=\"14.00\">grad 0.4200</text>\n</g>\n<!-- 139635193134864&#45;&gt;139635193134816+ -->\n<g id=\"edge14\" class=\"edge\">\n<title>139635193134864&#45;&gt;139635193134816+</title>\n<path fill=\"none\" stroke=\"black\" d=\"M543.84,-111.01C554.01,-109.34 563.76,-107.74 572.44,-106.32\"/>\n<polygon fill=\"black\" stroke=\"black\" points=\"573.17,-109.75 582.47,-104.68 572.04,-102.84 573.17,-109.75\"/>\n</g>\n<!-- 139635193134864*&#45;&gt;139635193134864 -->\n<g id=\"edge2\" class=\"edge\">\n<title>139635193134864*&#45;&gt;139635193134864</title>\n<path fill=\"none\" stroke=\"black\" d=\"M290.34,-128.5C298.51,-128.5 308.08,-128.5 318.36,-128.5\"/>\n<polygon fill=\"black\" stroke=\"black\" points=\"318.39,-132 328.39,-128.5 318.39,-125 318.39,-132\"/>\n</g>\n<!-- 139635193135408 -->\n<g id=\"node9\" class=\"node\">\n<title>139635193135408</title>\n<polygon fill=\"none\" stroke=\"black\" points=\"1071,-109.5 1071,-145.5 1256,-145.5 1256,-109.5 1071,-109.5\"/>\n<text text-anchor=\"middle\" x=\"1082.5\" y=\"-123.8\" font-family=\"Times,serif\" font-size=\"14.00\">n</text>\n<polyline fill=\"none\" stroke=\"black\" points=\"1094,-109.5 1094,-145.5 \"/>\n<text text-anchor=\"middle\" x=\"1134\" y=\"-123.8\" font-family=\"Times,serif\" font-size=\"14.00\">data 1.0000</text>\n<polyline fill=\"none\" stroke=\"black\" points=\"1174,-109.5 1174,-145.5 \"/>\n<text text-anchor=\"middle\" x=\"1215\" y=\"-123.8\" font-family=\"Times,serif\" font-size=\"14.00\">grad 0.4200</text>\n</g>\n<!-- 139635193135504tanh -->\n<g id=\"node15\" class=\"node\">\n<title>139635193135504tanh</title>\n<ellipse fill=\"none\" stroke=\"black\" cx=\"1319\" cy=\"-127.5\" rx=\"27\" ry=\"18\"/>\n<text text-anchor=\"middle\" x=\"1319\" y=\"-123.8\" font-family=\"Times,serif\" font-size=\"14.00\">tanh</text>\n</g>\n<!-- 139635193135408&#45;&gt;139635193135504tanh -->\n<g id=\"edge7\" class=\"edge\">\n<title>139635193135408&#45;&gt;139635193135504tanh</title>\n<path fill=\"none\" stroke=\"black\" d=\"M1256.01,-127.5C1265.01,-127.5 1273.74,-127.5 1281.66,-127.5\"/>\n<polygon fill=\"black\" stroke=\"black\" points=\"1281.91,-131 1291.91,-127.5 1281.91,-124 1281.91,-131\"/>\n</g>\n<!-- 139635193135408+&#45;&gt;139635193135408 -->\n<g id=\"edge3\" class=\"edge\">\n<title>139635193135408+&#45;&gt;139635193135408</title>\n<path fill=\"none\" stroke=\"black\" d=\"M1035.04,-127.5C1042.58,-127.5 1051.3,-127.5 1060.57,-127.5\"/>\n<polygon fill=\"black\" stroke=\"black\" points=\"1060.81,-131 1070.81,-127.5 1060.81,-124 1060.81,-131\"/>\n</g>\n<!-- 139635193134912 -->\n<g id=\"node11\" class=\"node\">\n<title>139635193134912</title>\n<polygon fill=\"none\" stroke=\"black\" points=\"326,-55.5 326,-91.5 546,-91.5 546,-55.5 326,-55.5\"/>\n<text text-anchor=\"middle\" x=\"352.5\" y=\"-69.8\" font-family=\"Times,serif\" font-size=\"14.00\">x1*w1</text>\n<polyline fill=\"none\" stroke=\"black\" points=\"379,-55.5 379,-91.5 \"/>\n<text text-anchor=\"middle\" x=\"421.5\" y=\"-69.8\" font-family=\"Times,serif\" font-size=\"14.00\">data &#45;6.0000</text>\n<polyline fill=\"none\" stroke=\"black\" points=\"464,-55.5 464,-91.5 \"/>\n<text text-anchor=\"middle\" x=\"505\" y=\"-69.8\" font-family=\"Times,serif\" font-size=\"14.00\">grad 0.4200</text>\n</g>\n<!-- 139635193134912&#45;&gt;139635193134816+ -->\n<g id=\"edge8\" class=\"edge\">\n<title>139635193134912&#45;&gt;139635193134816+</title>\n<path fill=\"none\" stroke=\"black\" d=\"M546.27,-90.75C555.64,-92.23 564.6,-93.65 572.65,-94.92\"/>\n<polygon fill=\"black\" stroke=\"black\" points=\"572.23,-98.4 582.65,-96.5 573.32,-91.48 572.23,-98.4\"/>\n</g>\n<!-- 139635193134912*&#45;&gt;139635193134912 -->\n<g id=\"edge4\" class=\"edge\">\n<title>139635193134912*&#45;&gt;139635193134912</title>\n<path fill=\"none\" stroke=\"black\" d=\"M290.34,-73.5C297.77,-73.5 306.37,-73.5 315.6,-73.5\"/>\n<polygon fill=\"black\" stroke=\"black\" points=\"315.84,-77 325.84,-73.5 315.84,-70 315.84,-77\"/>\n</g>\n<!-- 139635193132416 -->\n<g id=\"node13\" class=\"node\">\n<title>139635193132416</title>\n<polygon fill=\"none\" stroke=\"black\" points=\"0,-0.5 0,-36.5 200,-36.5 200,-0.5 0,-0.5\"/>\n<text text-anchor=\"middle\" x=\"16.5\" y=\"-14.8\" font-family=\"Times,serif\" font-size=\"14.00\">w1</text>\n<polyline fill=\"none\" stroke=\"black\" points=\"33,-0.5 33,-36.5 \"/>\n<text text-anchor=\"middle\" x=\"75.5\" y=\"-14.8\" font-family=\"Times,serif\" font-size=\"14.00\">data &#45;2.0000</text>\n<polyline fill=\"none\" stroke=\"black\" points=\"118,-0.5 118,-36.5 \"/>\n<text text-anchor=\"middle\" x=\"159\" y=\"-14.8\" font-family=\"Times,serif\" font-size=\"14.00\">grad 1.2599</text>\n</g>\n<!-- 139635193132416&#45;&gt;139635193134912* -->\n<g id=\"edge11\" class=\"edge\">\n<title>139635193132416&#45;&gt;139635193134912*</title>\n<path fill=\"none\" stroke=\"black\" d=\"M169.28,-36.5C179.65,-39.61 190.16,-42.98 200,-46.5 210.28,-50.17 221.28,-54.74 231.11,-59.07\"/>\n<polygon fill=\"black\" stroke=\"black\" points=\"229.93,-62.37 240.48,-63.27 232.79,-55.99 229.93,-62.37\"/>\n</g>\n<!-- 139635193135504 -->\n<g id=\"node14\" class=\"node\">\n<title>139635193135504</title>\n<polygon fill=\"none\" stroke=\"black\" points=\"1382,-109.5 1382,-145.5 1567,-145.5 1567,-109.5 1382,-109.5\"/>\n<text text-anchor=\"middle\" x=\"1393.5\" y=\"-123.8\" font-family=\"Times,serif\" font-size=\"14.00\">o</text>\n<polyline fill=\"none\" stroke=\"black\" points=\"1405,-109.5 1405,-145.5 \"/>\n<text text-anchor=\"middle\" x=\"1445\" y=\"-123.8\" font-family=\"Times,serif\" font-size=\"14.00\">data 0.7616</text>\n<polyline fill=\"none\" stroke=\"black\" points=\"1485,-109.5 1485,-145.5 \"/>\n<text text-anchor=\"middle\" x=\"1526\" y=\"-123.8\" font-family=\"Times,serif\" font-size=\"14.00\">grad 1.0000</text>\n</g>\n<!-- 139635193135504tanh&#45;&gt;139635193135504 -->\n<g id=\"edge5\" class=\"edge\">\n<title>139635193135504tanh&#45;&gt;139635193135504</title>\n<path fill=\"none\" stroke=\"black\" d=\"M1346.04,-127.5C1353.58,-127.5 1362.3,-127.5 1371.57,-127.5\"/>\n<polygon fill=\"black\" stroke=\"black\" points=\"1371.81,-131 1381.81,-127.5 1371.81,-124 1371.81,-131\"/>\n</g>\n</g>\n</svg>\n"
          },
          "metadata": {},
          "execution_count": 5
        }
      ]
    },
    {
      "cell_type": "markdown",
      "source": [
        "**Example 2**"
      ],
      "metadata": {
        "id": "-i8X4_BNNXO1"
      }
    },
    {
      "cell_type": "code",
      "source": [
        "# Create the neural network\n",
        "nn = FNN(3, [4, 4, 1])\n",
        "\n",
        "# Inputs\n",
        "x = [[6.0, 1.0, -10.0],\n",
        "     [-20.5, 6.5, -1.5],\n",
        "     [0.5, -1.0, 10.0],\n",
        "     [12.0, -20.0, -1.0]]\n",
        "\n",
        "# Target outputs\n",
        "y = [1.0, -1.0, -1.0, 1.0]"
      ],
      "metadata": {
        "id": "p6bmwybl3lBP"
      },
      "execution_count": 6,
      "outputs": []
    },
    {
      "cell_type": "code",
      "source": [
        "for i in range(100):\n",
        "  \n",
        "  # forward pass\n",
        "  ypred = [nn(x) for x in x]\n",
        "  loss = sum((ypred - ytrue)**2 for ytrue, ypred in zip(y, ypred))\n",
        "  \n",
        "  if loss.data < 0.02:\n",
        "    break\n",
        "\n",
        "  # backward pass\n",
        "  for p in nn.params():\n",
        "    p.grad = 0.0  # zerograd\n",
        "  loss.backward()\n",
        "  \n",
        "  # update\n",
        "  for p in nn.params():\n",
        "    p.data += -5e-2 * p.grad\n",
        "  \n",
        "  print(f'Epoch: {i+1}, Loss: {loss.data}')"
      ],
      "metadata": {
        "colab": {
          "base_uri": "https://localhost:8080/"
        },
        "id": "gRTsFEva3o4q",
        "outputId": "9abb767d-27d2-4d2f-b4a4-3e749bb59042"
      },
      "execution_count": 7,
      "outputs": [
        {
          "output_type": "stream",
          "name": "stdout",
          "text": [
            "Epoch: 1, Loss: 6.290485134086017\n",
            "Epoch: 2, Loss: 2.1704723141722884\n",
            "Epoch: 3, Loss: 1.1876621400116987\n",
            "Epoch: 4, Loss: 0.5940025122407685\n",
            "Epoch: 5, Loss: 0.3449840472076281\n",
            "Epoch: 6, Loss: 0.23142675124304465\n",
            "Epoch: 7, Loss: 0.17056267723709134\n",
            "Epoch: 8, Loss: 0.13363026556488378\n",
            "Epoch: 9, Loss: 0.10916610902911855\n",
            "Epoch: 10, Loss: 0.09190435233490166\n",
            "Epoch: 11, Loss: 0.07913715335025219\n",
            "Epoch: 12, Loss: 0.06934546475381778\n",
            "Epoch: 13, Loss: 0.06161717443623875\n",
            "Epoch: 14, Loss: 0.05537409753966146\n",
            "Epoch: 15, Loss: 0.05023320939304437\n",
            "Epoch: 16, Loss: 0.045931346088272124\n",
            "Epoch: 17, Loss: 0.04228206949671646\n",
            "Epoch: 18, Loss: 0.03914980623219774\n",
            "Epoch: 19, Loss: 0.03643373014344996\n",
            "Epoch: 20, Loss: 0.03405737642728219\n",
            "Epoch: 21, Loss: 0.03196175205639392\n",
            "Epoch: 22, Loss: 0.030100647677436705\n",
            "Epoch: 23, Loss: 0.028437374909519936\n",
            "Epoch: 24, Loss: 0.026942449688565753\n",
            "Epoch: 25, Loss: 0.025591917540524062\n",
            "Epoch: 26, Loss: 0.024366123162559022\n",
            "Epoch: 27, Loss: 0.02324879309353833\n",
            "Epoch: 28, Loss: 0.02222634262765875\n",
            "Epoch: 29, Loss: 0.021287345737228826\n",
            "Epoch: 30, Loss: 0.020422125111492346\n"
          ]
        }
      ]
    },
    {
      "cell_type": "code",
      "source": [
        "print(f'True labels: {y} \\nPredictions: {ypred}')"
      ],
      "metadata": {
        "colab": {
          "base_uri": "https://localhost:8080/"
        },
        "id": "CPkvOQI9PTVW",
        "outputId": "26df10aa-b914-4660-842c-31e337602095"
      },
      "execution_count": 8,
      "outputs": [
        {
          "output_type": "stream",
          "name": "stdout",
          "text": [
            "True labels: [1.0, -1.0, -1.0, 1.0] \n",
            "Predictions: [Value(0.9262200125205117), Value(-0.9570245242648244), Value(-0.9162937958307105), Value(0.9270251746677287)]\n"
          ]
        }
      ]
    }
  ]
}